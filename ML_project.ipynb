{
  "cells": [
    {
      "cell_type": "markdown",
      "metadata": {
        "id": "view-in-github",
        "colab_type": "text"
      },
      "source": [
        "<a href=\"https://colab.research.google.com/github/Muskancodes21/Machine-Learning-Fake-News-Detection-/blob/main/ML_project.ipynb\" target=\"_parent\"><img src=\"https://colab.research.google.com/assets/colab-badge.svg\" alt=\"Open In Colab\"/></a>"
      ]
    },
    {
      "cell_type": "markdown",
      "source": [],
      "metadata": {
        "id": "6nf1D37Y_ymF"
      }
    },
    {
      "cell_type": "code",
      "execution_count": null,
      "metadata": {
        "colab": {
          "background_save": true
        },
        "id": "Zns7uKONusvP",
        "outputId": "cdafab04-2b4d-436d-ea65-52844ac54c5d"
      },
      "outputs": [
        {
          "name": "stdout",
          "output_type": "stream",
          "text": [
            "Accuracy: 0.9950\n",
            "Classification Report:\n",
            "              precision    recall  f1-score   support\n",
            "\n",
            "        fake       0.99      1.00      1.00      4733\n",
            "        real       1.00      0.99      0.99      4247\n",
            "\n",
            "    accuracy                           0.99      8980\n",
            "   macro avg       1.00      0.99      0.99      8980\n",
            "weighted avg       0.99      0.99      0.99      8980\n",
            "\n"
          ]
        }
      ],
      "source": [
        "import pandas as pd\n",
        "from sklearn.model_selection import train_test_split\n",
        "from sklearn.feature_extraction.text import CountVectorizer\n",
        "from sklearn.svm import SVC\n",
        "from sklearn.metrics import classification_report, accuracy_score\n",
        "from sklearn.preprocessing import LabelEncoder\n",
        "\n",
        "# Load datasets\n",
        "fake_df = pd.read_csv('Fake.csv')\n",
        "true_df = pd.read_csv('True.csv')\n",
        "\n",
        "# Label the data\n",
        "fake_df['label'] = 'fake'\n",
        "true_df['label'] = 'real'\n",
        "\n",
        "# Combine\n",
        "combined_df = pd.concat([fake_df, true_df], ignore_index=True)\n",
        "\n",
        "# Combine title and text\n",
        "combined_df['full_text'] = combined_df['title'] + \" \" + combined_df['text']\n",
        "combined_df = combined_df.dropna(subset=['full_text', 'label'])\n",
        "\n",
        "# Encode labels\n",
        "le = LabelEncoder()\n",
        "combined_df['encoded_label'] = le.fit_transform(combined_df['label'])\n",
        "\n",
        "# Train-test split\n",
        "X_train, X_test, y_train, y_test = train_test_split(\n",
        "    combined_df['full_text'],\n",
        "    combined_df['encoded_label'],\n",
        "    test_size=0.2,\n",
        "    random_state=42\n",
        ")\n",
        "\n",
        "# Vectorize with BOW\n",
        "vectorizer = CountVectorizer(stop_words='english', max_df=0.7, max_features=5000)\n",
        "X_train_bow = vectorizer.fit_transform(X_train)\n",
        "X_test_bow = vectorizer.transform(X_test)\n",
        "\n",
        "# SVM training\n",
        "svm_model = SVC(kernel='linear')\n",
        "svm_model.fit(X_train_bow, y_train)\n",
        "\n",
        "# Evaluation\n",
        "y_pred = svm_model.predict(X_test_bow)\n",
        "print(f\"Accuracy: {accuracy_score(y_test, y_pred):.4f}\")\n",
        "print(\"Classification Report:\")\n",
        "print(classification_report(y_test, y_pred, target_names=le.classes_))\n"
      ]
    },
    {
      "source": [
        "import pandas as pd\n",
        "import joblib\n",
        "from sklearn.model_selection import train_test_split\n",
        "from sklearn.feature_extraction.text import TfidfVectorizer\n",
        "from sklearn.linear_model import LogisticRegression\n",
        "from sklearn.pipeline import Pipeline\n",
        "from sklearn.preprocessing import LabelEncoder\n",
        "from sklearn.metrics import (\n",
        "    accuracy_score, f1_score, classification_report,\n",
        "    confusion_matrix, ConfusionMatrixDisplay\n",
        ")\n",
        "import matplotlib.pyplot as plt\n",
        "\n",
        "\n",
        "fake_df = pd.read_csv(\"Fake.csv\", on_bad_lines='skip')\n",
        "true_df = pd.read_csv(\"True.csv\", on_bad_lines='skip')\n",
        "\n",
        "fake_df['label'] = 'fake'\n",
        "true_df['label'] = 'real'\n",
        "\n",
        "df = pd.concat([fake_df, true_df]).sample(frac=1, random_state=42)\n",
        "df['full_text'] = (df['title'] + \" \" + df['text']).str.lower()\n",
        "df = df.dropna(subset=['full_text'])\n",
        "\n",
        "\n",
        "le = LabelEncoder()\n",
        "df['encoded_label'] = le.fit_transform(df['label'])\n",
        "\n",
        "\n",
        "df = df.sample(n=5000, random_state=42)\n",
        "\n",
        "\n",
        "X_train, X_test, y_train, y_test = train_test_split(\n",
        "    df['full_text'], df['encoded_label'],\n",
        "    test_size=0.2, stratify=df['encoded_label'],\n",
        "    random_state=42\n",
        ")\n",
        "\n",
        "\n",
        "pipeline = Pipeline([\n",
        "    ('tfidf', TfidfVectorizer(max_features=5000, stop_words='english')),\n",
        "    ('clf', LogisticRegression(class_weight='balanced', max_iter=1000))\n",
        "])\n",
        "\n",
        "pipeline.fit(X_train, y_train)\n",
        "\n",
        "\n",
        "y_pred = pipeline.predict(X_test)\n",
        "print(\"Accuracy:\", accuracy_score(y_test, y_pred))\n",
        "print(\"F1 Score:\", f1_score(y_test, y_pred))\n",
        "print(\"Classification Report:\\n\", classification_report(y_test, y_pred, target_names=le.classes_))\n",
        "\n",
        "cm = confusion_matrix(y_test, y_pred)\n",
        "disp = ConfusionMatrixDisplay(confusion_matrix=cm, display_labels=le.classes_)\n",
        "disp.plot(cmap='Purples')\n",
        "plt.title(\"Fake News Detection - Confusion Matrix\")\n",
        "plt.show()\n",
        "\n",
        "\n",
        "\n",
        "\n",
        "\n",
        "sample = [\"Aliens have taken over New York City!\"]\n",
        "pred = pipeline.predict(pd.Series(sample))\n",
        "print(\"Prediction:\", le.inverse_transform(pred)[0])"
      ],
      "cell_type": "code",
      "metadata": {
        "colab": {
          "base_uri": "https://localhost:8080/",
          "height": 715
        },
        "id": "Gs7XTFalV3ZB",
        "outputId": "11e2e2bf-47a9-416c-da79-6fbd608095e7"
      },
      "execution_count": null,
      "outputs": [
        {
          "output_type": "stream",
          "name": "stdout",
          "text": [
            "Accuracy: 0.968\n",
            "F1 Score: 0.9670781893004116\n",
            "Classification Report:\n",
            "               precision    recall  f1-score   support\n",
            "\n",
            "        fake       0.98      0.95      0.97       522\n",
            "        real       0.95      0.98      0.97       478\n",
            "\n",
            "    accuracy                           0.97      1000\n",
            "   macro avg       0.97      0.97      0.97      1000\n",
            "weighted avg       0.97      0.97      0.97      1000\n",
            "\n"
          ]
        },
        {
          "output_type": "display_data",
          "data": {
            "text/plain": [
              "<Figure size 640x480 with 2 Axes>"
            ],
            "image/png": "[encoded data removed]"
          },
          "metadata": {}
        },
        {
          "output_type": "stream",
          "name": "stdout",
          "text": [
            "Model saved as logreg_basic_clean_model.pkl\n",
            "Prediction: fake\n"
          ]
        }
      ]
    }
  ],
  "metadata": {
    "colab": {
      "provenance": [],
      "authorship_tag": "ABX9TyPJf0/6XO8xmUxJ43GNWdI0",
      "include_colab_link": true
    },
    "kernelspec": {
      "display_name": "Python 3",
      "name": "python3"
    },
    "language_info": {
      "name": "python"
    }
  },
  "nbformat": 4,
  "nbformat_minor": 0
}